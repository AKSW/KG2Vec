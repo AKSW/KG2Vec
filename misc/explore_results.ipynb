{
 "cells": [
  {
   "cell_type": "code",
   "execution_count": 1,
   "metadata": {},
   "outputs": [
    {
     "name": "stdout",
     "output_type": "stream",
     "text": [
      "LICENSE                   aksw-bib_output.txt       lstm_neural_net.py\n",
      "README.md                 aksw-bib_output.txt.w2v   \u001b[31mmake_dictionary.py\u001b[m\u001b[m*\n",
      "aksw-bib-test_output.txt  aksw-bib_sentences.txt    requirements.txt\n",
      "aksw-bib.test.nt          \u001b[31manalogy_predict.py\u001b[m\u001b[m*       \u001b[1m\u001b[36mrun_logs\u001b[m\u001b[m/\n",
      "aksw-bib.train+valid.nt   explore_results.ipynb     \u001b[31mtrain_model.py\u001b[m\u001b[m*\n",
      "aksw-bib.w2v              \u001b[31mkg2vec_analogy.sh\u001b[m\u001b[m*\n",
      "aksw-bib_dictionary.txt   \u001b[31mkg2vec_lstm.sh\u001b[m\u001b[m*\n"
     ]
    }
   ],
   "source": [
    "ls"
   ]
  },
  {
   "cell_type": "code",
   "execution_count": 2,
   "metadata": {},
   "outputs": [],
   "source": [
    "dictionary = {l.split()[0].strip():l.split()[1].strip() \n",
    "              for l in open('aksw-bib_dictionary.txt', 'r').readlines()\n",
    "             }"
   ]
  },
  {
   "cell_type": "markdown",
   "metadata": {},
   "source": [
    "# Results"
   ]
  },
  {
   "cell_type": "code",
   "execution_count": 3,
   "metadata": {},
   "outputs": [],
   "source": [
    "# output\n",
    "results = [(x.split()[0],x.split()[1],x.split()[2]) \n",
    "         for x in open('aksw-bib_output.txt', 'r').readlines()]"
   ]
  },
  {
   "cell_type": "code",
   "execution_count": 4,
   "metadata": {},
   "outputs": [
    {
     "name": "stdout",
     "output_type": "stream",
     "text": [
      "triple 13:\n",
      "\th: http://aksw.org/SebastianHellmann\n",
      "\tr: http://dblp.uni-trier.de/rdf/schema-2017-04-18#authorOf\n",
      "\tt: http://aksw.org/Publication/DOJCHINOVSKI16.578\n",
      "triple 14:\n",
      "\th: http://aksw.org/Projects/Xturtle\n",
      "\tr: http://usefulinc.com/ns/doap#maintainer\n",
      "\tt: http://aksw.org/SebastianTramp\n",
      "triple 15:\n",
      "\th: http://aksw.org/DimitrisKontokostas\n",
      "\tr: http://dblp.uni-trier.de/rdf/schema-2017-04-18#authorOf\n",
      "\tt: http://aksw.org/Publication/kontokostasDatabugger\n",
      "triple 16:\n",
      "\th: http://aksw.org/AntjeSchlaf\n",
      "\tr: http://xmlns.com/foaf/0.1/currentProject\n",
      "\tt: http://aksw.org/Projects/SlideWikiEU\n",
      "triple 17:\n",
      "\th: http://aksw.org/StudentWorker/ViktorBefort\n",
      "\tr: http://www.w3.org/1999/02/22-rdf-syntax-ns#type\n",
      "\tt: http://aksw.org/StudentWorker\n",
      "triple 18:\n",
      "\th: http://hawk.aksw.org\n",
      "\tr: http://www.w3.org/1999/02/22-rdf-syntax-ns#type\n",
      "\tt: http://aksw.org/schema/Demo\n",
      "triple 19:\n",
      "\th: http://aksw.org/Publication/iglesias-j-2011--a\n",
      "\tr: http://purl.org/dc/terms/subject\n",
      "\tt: http://aksw.org/Projects/LOD2\n"
     ]
    }
   ],
   "source": [
    "for triple in results[13:20]:\n",
    "    h, r, t = triple\n",
    "    idx = results.index(triple)\n",
    "    print(f'triple {idx}:')\n",
    "    print(f'\\th: {dictionary[h]}\\n\\tr: {dictionary[r]}\\n\\tt: {dictionary[t]}')"
   ]
  },
  {
   "cell_type": "code",
   "execution_count": 5,
   "metadata": {},
   "outputs": [],
   "source": [
    "# test_output\n",
    "results = [(x.split()[0],x.split()[1],x.split()[2]) \n",
    "         for x in open('aksw-bib-test_output.txt', 'r').readlines()]"
   ]
  },
  {
   "cell_type": "code",
   "execution_count": 6,
   "metadata": {},
   "outputs": [
    {
     "name": "stdout",
     "output_type": "stream",
     "text": [
      "triple 13:\n",
      "\th: http://aksw.org/Publication/Sherif-thesis-2016\n",
      "\tr: http://purl.org/dc/terms/subject\n",
      "\tt: http://aksw.org/Projects/GeoKnow\n",
      "triple 14:\n",
      "\th: http://aksw.org/SoerenAuer\n",
      "\tr: http://dblp.uni-trier.de/rdf/schema-2017-04-18#authorOf\n",
      "\tt: http://aksw.org/Publication/ermilov-t-2011--a\n",
      "triple 15:\n",
      "\th: http://aksw.org/MatthiasWauer\n",
      "\tr: http://dblp.uni-trier.de/rdf/schema-2017-04-18#authorOf\n",
      "\tt: http://aksw.org/Publication/wasabi_generator\n",
      "triple 16:\n",
      "\th: http://aksw.org/JensLehmann\n",
      "\tr: http://xmlns.com/foaf/0.1/currentProject\n",
      "\tt: http://aksw.org/Projects/DeFacto\n",
      "triple 17:\n",
      "\th: http://aksw.org/NormanHeino\n",
      "\tr: http://dblp.uni-trier.de/rdf/schema-2017-04-18#authorOf\n",
      "\tt: http://aksw.org/Publication/NGO+11\n",
      "triple 18:\n",
      "\th: http://aksw.org/MichaelMartin\n",
      "\tr: http://dblp.uni-trier.de/rdf/schema-2017-04-18#authorOf\n",
      "\tt: http://aksw.org/Publication/iermilov-2016-lodstats-iswc\n",
      "triple 19:\n",
      "\th: http://aksw.org/SebastianHellmann\n",
      "\tr: http://dblp.uni-trier.de/rdf/schema-2017-04-18#authorOf\n",
      "\tt: http://aksw.org/Publication/eswc_rdfunit_nlp\n"
     ]
    }
   ],
   "source": [
    "for triple in results[13:20]:\n",
    "    h, r, t = triple\n",
    "    idx = results.index(triple)\n",
    "    print(f'triple {idx}:')\n",
    "    print(f'\\th: {dictionary[h]}\\n\\tr: {dictionary[r]}\\n\\tt: {dictionary[t]}')"
   ]
  }
 ],
 "metadata": {
  "kernelspec": {
   "display_name": "Python 3",
   "language": "python",
   "name": "python3"
  },
  "language_info": {
   "codemirror_mode": {
    "name": "ipython",
    "version": 3
   },
   "file_extension": ".py",
   "mimetype": "text/x-python",
   "name": "python",
   "nbconvert_exporter": "python",
   "pygments_lexer": "ipython3",
   "version": "3.6.5"
  }
 },
 "nbformat": 4,
 "nbformat_minor": 2
}
